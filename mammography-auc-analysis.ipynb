{
 "cells": [
  {
   "cell_type": "code",
   "execution_count": 1,
   "metadata": {},
   "outputs": [],
   "source": [
    "import numpy as np\n",
    "import pandas as pd\n",
    "import matplotlib.pyplot as plt\n",
    "from collections import Counter\n",
    "\n",
    "from sklearn.neighbors import LocalOutlierFactor\n",
    "from sklearn import metrics\n",
    "from sklearn.model_selection import train_test_split\n",
    "\n",
    "np.random.seed(42)"
   ]
  },
  {
   "cell_type": "code",
   "execution_count": null,
   "metadata": {},
   "outputs": [],
   "source": []
  },
  {
   "cell_type": "code",
   "execution_count": 2,
   "metadata": {},
   "outputs": [],
   "source": [
    "## The implementation of LocalOutlierFactor outputs 1 for an inlier and -1 for an outlier.\n",
    "## Arguably this is incorrect, since in anomaly detection (and more generally in inbalanced datasets)\n",
    "## the smaller class (the anomalies) should be considered the 'positive' class"
   ]
  },
  {
   "cell_type": "code",
   "execution_count": 3,
   "metadata": {},
   "outputs": [],
   "source": [
    "def predictAndEvaluate(X, ground_truth, pos_label=-1):\n",
    "    clf = LocalOutlierFactor()#n_neighbors=20, contamination=0.1)\n",
    "    y_pred = clf.fit_predict(X)\n",
    "    fpr, tpr, thresholds = metrics.roc_curve(-pos_label*ground_truth, pos_label*clf.negative_outlier_factor_)\n",
    "    auc = metrics.auc(fpr, tpr)\n",
    "    f1 = metrics.f1_score(-pos_label*ground_truth, pos_label*y_pred)\n",
    "    return (auc, f1)"
   ]
  },
  {
   "cell_type": "code",
   "execution_count": 4,
   "metadata": {},
   "outputs": [],
   "source": [
    "results = [] # (name, auc, f1)"
   ]
  },
  {
   "cell_type": "code",
   "execution_count": null,
   "metadata": {},
   "outputs": [],
   "source": []
  },
  {
   "cell_type": "code",
   "execution_count": 5,
   "metadata": {},
   "outputs": [],
   "source": [
    "data = pd.read_csv('mammography.csv', header=None)\n",
    "# Data is -1 for an inlier and 1 for an outlier\n",
    "ground_truth = data.iloc[:,-1].apply(lambda x: int(x.strip(\"'\"))).values\n",
    "data.iloc[:, -1] = ground_truth\n",
    "X = data.values[:,:-1]"
   ]
  },
  {
   "cell_type": "code",
   "execution_count": 6,
   "metadata": {},
   "outputs": [
    {
     "data": {
      "text/html": [
       "<div>\n",
       "<style scoped>\n",
       "    .dataframe tbody tr th:only-of-type {\n",
       "        vertical-align: middle;\n",
       "    }\n",
       "\n",
       "    .dataframe tbody tr th {\n",
       "        vertical-align: top;\n",
       "    }\n",
       "\n",
       "    .dataframe thead th {\n",
       "        text-align: right;\n",
       "    }\n",
       "</style>\n",
       "<table border=\"1\" class=\"dataframe\">\n",
       "  <thead>\n",
       "    <tr style=\"text-align: right;\">\n",
       "      <th></th>\n",
       "      <th>0</th>\n",
       "      <th>1</th>\n",
       "      <th>2</th>\n",
       "      <th>3</th>\n",
       "      <th>4</th>\n",
       "      <th>5</th>\n",
       "      <th>6</th>\n",
       "    </tr>\n",
       "  </thead>\n",
       "  <tbody>\n",
       "    <tr>\n",
       "      <th>0</th>\n",
       "      <td>0.230020</td>\n",
       "      <td>5.072578</td>\n",
       "      <td>-0.276061</td>\n",
       "      <td>0.832444</td>\n",
       "      <td>-0.377866</td>\n",
       "      <td>0.480322</td>\n",
       "      <td>-1</td>\n",
       "    </tr>\n",
       "    <tr>\n",
       "      <th>1</th>\n",
       "      <td>0.155491</td>\n",
       "      <td>-0.169390</td>\n",
       "      <td>0.670652</td>\n",
       "      <td>-0.859553</td>\n",
       "      <td>-0.377866</td>\n",
       "      <td>-0.945723</td>\n",
       "      <td>-1</td>\n",
       "    </tr>\n",
       "    <tr>\n",
       "      <th>2</th>\n",
       "      <td>-0.784415</td>\n",
       "      <td>-0.443654</td>\n",
       "      <td>5.674705</td>\n",
       "      <td>-0.859553</td>\n",
       "      <td>-0.377866</td>\n",
       "      <td>-0.945723</td>\n",
       "      <td>-1</td>\n",
       "    </tr>\n",
       "    <tr>\n",
       "      <th>3</th>\n",
       "      <td>0.546088</td>\n",
       "      <td>0.131415</td>\n",
       "      <td>-0.456387</td>\n",
       "      <td>-0.859553</td>\n",
       "      <td>-0.377866</td>\n",
       "      <td>-0.945723</td>\n",
       "      <td>-1</td>\n",
       "    </tr>\n",
       "    <tr>\n",
       "      <th>4</th>\n",
       "      <td>-0.102987</td>\n",
       "      <td>-0.394994</td>\n",
       "      <td>-0.140816</td>\n",
       "      <td>0.979703</td>\n",
       "      <td>-0.377866</td>\n",
       "      <td>1.013566</td>\n",
       "      <td>-1</td>\n",
       "    </tr>\n",
       "    <tr>\n",
       "      <th>...</th>\n",
       "      <td>...</td>\n",
       "      <td>...</td>\n",
       "      <td>...</td>\n",
       "      <td>...</td>\n",
       "      <td>...</td>\n",
       "      <td>...</td>\n",
       "      <td>...</td>\n",
       "    </tr>\n",
       "    <tr>\n",
       "      <th>11178</th>\n",
       "      <td>-0.250012</td>\n",
       "      <td>-0.377300</td>\n",
       "      <td>-0.321142</td>\n",
       "      <td>1.269157</td>\n",
       "      <td>3.652984</td>\n",
       "      <td>1.092791</td>\n",
       "      <td>1</td>\n",
       "    </tr>\n",
       "    <tr>\n",
       "      <th>11179</th>\n",
       "      <td>0.281343</td>\n",
       "      <td>-0.417112</td>\n",
       "      <td>-0.366224</td>\n",
       "      <td>0.851010</td>\n",
       "      <td>2.789649</td>\n",
       "      <td>1.345700</td>\n",
       "      <td>1</td>\n",
       "    </tr>\n",
       "    <tr>\n",
       "      <th>11180</th>\n",
       "      <td>1.204988</td>\n",
       "      <td>1.763724</td>\n",
       "      <td>-0.501468</td>\n",
       "      <td>1.562408</td>\n",
       "      <td>6.489072</td>\n",
       "      <td>0.931294</td>\n",
       "      <td>1</td>\n",
       "    </tr>\n",
       "    <tr>\n",
       "      <th>11181</th>\n",
       "      <td>0.736644</td>\n",
       "      <td>-0.222474</td>\n",
       "      <td>-0.050653</td>\n",
       "      <td>1.509665</td>\n",
       "      <td>0.539269</td>\n",
       "      <td>1.315229</td>\n",
       "      <td>1</td>\n",
       "    </tr>\n",
       "    <tr>\n",
       "      <th>11182</th>\n",
       "      <td>0.177003</td>\n",
       "      <td>-0.191508</td>\n",
       "      <td>-0.501468</td>\n",
       "      <td>1.578864</td>\n",
       "      <td>7.750705</td>\n",
       "      <td>1.555951</td>\n",
       "      <td>1</td>\n",
       "    </tr>\n",
       "  </tbody>\n",
       "</table>\n",
       "<p>11183 rows × 7 columns</p>\n",
       "</div>"
      ],
      "text/plain": [
       "              0         1         2         3         4         5  6\n",
       "0      0.230020  5.072578 -0.276061  0.832444 -0.377866  0.480322 -1\n",
       "1      0.155491 -0.169390  0.670652 -0.859553 -0.377866 -0.945723 -1\n",
       "2     -0.784415 -0.443654  5.674705 -0.859553 -0.377866 -0.945723 -1\n",
       "3      0.546088  0.131415 -0.456387 -0.859553 -0.377866 -0.945723 -1\n",
       "4     -0.102987 -0.394994 -0.140816  0.979703 -0.377866  1.013566 -1\n",
       "...         ...       ...       ...       ...       ...       ... ..\n",
       "11178 -0.250012 -0.377300 -0.321142  1.269157  3.652984  1.092791  1\n",
       "11179  0.281343 -0.417112 -0.366224  0.851010  2.789649  1.345700  1\n",
       "11180  1.204988  1.763724 -0.501468  1.562408  6.489072  0.931294  1\n",
       "11181  0.736644 -0.222474 -0.050653  1.509665  0.539269  1.315229  1\n",
       "11182  0.177003 -0.191508 -0.501468  1.578864  7.750705  1.555951  1\n",
       "\n",
       "[11183 rows x 7 columns]"
      ]
     },
     "execution_count": 6,
     "metadata": {},
     "output_type": "execute_result"
    }
   ],
   "source": [
    "data"
   ]
  },
  {
   "cell_type": "code",
   "execution_count": 7,
   "metadata": {},
   "outputs": [
    {
     "name": "stdout",
     "output_type": "stream",
     "text": [
      "Class=-1, Count=10923, Percentage=97.675%\n",
      "Class=1, Count=260, Percentage=2.325%\n"
     ]
    }
   ],
   "source": [
    "counter = Counter(ground_truth)\n",
    "for k,v in counter.items():\n",
    "\tper = v / len(ground_truth) * 100\n",
    "\tprint('Class=%s, Count=%d, Percentage=%.3f%%' % (k, v, per))"
   ]
  },
  {
   "cell_type": "code",
   "execution_count": 8,
   "metadata": {},
   "outputs": [
    {
     "name": "stdout",
     "output_type": "stream",
     "text": [
      "0.7203702138747456 0.17817371937639198\n"
     ]
    }
   ],
   "source": [
    "auc, f1 = predictAndEvaluate(X, ground_truth, pos_label=-1)\n",
    "results.append((\"Full data with pos=-1\", auc, f1))\n",
    "print(auc, f1)"
   ]
  },
  {
   "cell_type": "code",
   "execution_count": 9,
   "metadata": {},
   "outputs": [
    {
     "name": "stdout",
     "output_type": "stream",
     "text": [
      "0.7203702138747455 0.9831637541634348\n"
     ]
    }
   ],
   "source": [
    "auc, f1 = predictAndEvaluate(X, ground_truth, pos_label=1)\n",
    "results.append((\"Full data with pos=1\", auc, f1))\n",
    "print(auc, f1)"
   ]
  },
  {
   "cell_type": "code",
   "execution_count": null,
   "metadata": {},
   "outputs": [],
   "source": []
  },
  {
   "cell_type": "code",
   "execution_count": 10,
   "metadata": {},
   "outputs": [],
   "source": [
    "def dofiftyfiftyTests(data, n, pos_label=-1):\n",
    "    results = []\n",
    "    for i in range(n):\n",
    "        # split normal dataset 50/50\n",
    "        X, y = train_test_split(data[data.iloc[:,-1] == -1].values[:,:-1], \n",
    "                            train_size=(len(data) // 2), shuffle=True, random_state=42 + i)\n",
    "        # append all abnormal data to the test set. \n",
    "        #No need to shuffle these, LOF does no updating based on these observations\n",
    "        y_test = np.concatenate((y, data[data.iloc[:, -1] == 1].values[:,:-1]))\n",
    "        # create ground truth for the test set\n",
    "        ground_truth = pos_label*np.concatenate((np.ones(len(y)), -np.ones(sum(data.iloc[:, -1] == 1))))\n",
    "        clf = LocalOutlierFactor(novelty=True)#n_neighbors=20, contamination=0.1)\n",
    "        clf.fit(X)\n",
    "        ## needs to flip these depending on what we consider +1 to be: normal or abnormal?\n",
    "        y_pred = pos_label*clf.predict(y_test)\n",
    "        nof = pos_label*clf.score_samples(y_test)\n",
    "        fpr, tpr, thresholds = metrics.roc_curve(ground_truth, nof, pos_label=1)\n",
    "        auc = metrics.auc(fpr, tpr)\n",
    "        f1 = metrics.f1_score(ground_truth, y_pred)\n",
    "        results.append((i, auc, f1))\n",
    "    return results"
   ]
  },
  {
   "cell_type": "code",
   "execution_count": 11,
   "metadata": {},
   "outputs": [
    {
     "name": "stdout",
     "output_type": "stream",
     "text": [
      "Run     AUC    F1\n",
      "0     0.852 0.398\n",
      "1     0.870 0.399\n",
      "2     0.835 0.358\n",
      "3     0.835 0.354\n",
      "4     0.858 0.409\n",
      "5     0.838 0.405\n",
      "6     0.862 0.394\n",
      "7     0.867 0.394\n",
      "8     0.854 0.355\n",
      "9     0.870 0.419\n"
     ]
    }
   ],
   "source": [
    "n=10\n",
    "r = dofiftyfiftyTests(data, n, pos_label=-1)\n",
    "print(\"%-5s %5s %5s\" %(\"Run\", \"AUC\", \"F1\"))\n",
    "for run, auc, f1 in r:\n",
    "    print(\"%-5d %.3f %.3f\" %(run, auc, f1))\n",
    "results.append((\"50/50 data avg of %d runs with pos_label=-1\" %n, ) + tuple(np.array(r).mean(axis=0)[1:].tolist()))"
   ]
  },
  {
   "cell_type": "code",
   "execution_count": 12,
   "metadata": {},
   "outputs": [
    {
     "name": "stdout",
     "output_type": "stream",
     "text": [
      "Run     AUC    F1\n",
      "0     0.852 0.975\n",
      "1     0.870 0.976\n",
      "2     0.835 0.973\n",
      "3     0.835 0.973\n",
      "4     0.858 0.975\n",
      "5     0.838 0.975\n",
      "6     0.862 0.975\n",
      "7     0.867 0.974\n",
      "8     0.854 0.974\n",
      "9     0.870 0.975\n"
     ]
    }
   ],
   "source": [
    "n=10\n",
    "r = dofiftyfiftyTests(data, n, pos_label=1)\n",
    "print(\"%-5s %5s %5s\" %(\"Run\", \"AUC\", \"F1\"))\n",
    "for run, auc, f1 in r:\n",
    "    print(\"%-5d %.3f %.3f\" %(run, auc, f1))\n",
    "results.append((\"50/50 data avg of %d runs with pos_label=1\" %n, ) + tuple(np.array(r).mean(axis=0)[1:].tolist()))"
   ]
  },
  {
   "cell_type": "code",
   "execution_count": 13,
   "metadata": {},
   "outputs": [
    {
     "name": "stdout",
     "output_type": "stream",
     "text": [
      "Run     AUC    F1\n",
      "0     0.844 0.406\n",
      "1     0.814 0.415\n",
      "2     0.833 0.406\n",
      "3     0.805 0.412\n",
      "4     0.817 0.411\n",
      "5     0.809 0.429\n",
      "6     0.815 0.428\n",
      "7     0.824 0.407\n",
      "8     0.804 0.403\n",
      "9     0.830 0.383\n"
     ]
    }
   ],
   "source": [
    "n=10\n",
    "r = dofiftyfiftyTests(data.drop_duplicates(), n)\n",
    "print(\"%-5s %5s %5s\" %(\"Run\", \"AUC\", \"F1\"))\n",
    "for run, auc, f1 in r:\n",
    "    print(\"%-5d %.3f %.3f\" %(run, auc, f1))\n",
    "results.append((\"50/50 dedup avg of %d runs with pos_label=-1\" %n, ) + tuple(np.array(r).mean(axis=0)[1:].tolist()))"
   ]
  },
  {
   "cell_type": "code",
   "execution_count": 14,
   "metadata": {},
   "outputs": [
    {
     "name": "stdout",
     "output_type": "stream",
     "text": [
      "Run     AUC    F1\n",
      "0     0.844 0.967\n",
      "1     0.814 0.967\n",
      "2     0.833 0.965\n",
      "3     0.805 0.964\n",
      "4     0.817 0.966\n",
      "5     0.809 0.965\n",
      "6     0.815 0.968\n",
      "7     0.824 0.965\n",
      "8     0.804 0.965\n",
      "9     0.830 0.961\n"
     ]
    }
   ],
   "source": [
    "n=10\n",
    "r = dofiftyfiftyTests(data.drop_duplicates(), n, pos_label=1)\n",
    "print(\"%-5s %5s %5s\" %(\"Run\", \"AUC\", \"F1\"))\n",
    "for run, auc, f1 in r:\n",
    "    print(\"%-5d %.3f %.3f\" %(run, auc, f1))\n",
    "results.append((\"50/50 dedup avg of %d runs with pos_label=1\" %n, ) + tuple(np.array(r).mean(axis=0)[1:].tolist()))"
   ]
  },
  {
   "cell_type": "code",
   "execution_count": 15,
   "metadata": {},
   "outputs": [
    {
     "name": "stdout",
     "output_type": "stream",
     "text": [
      "Dataset                                        AUC    F1\n",
      "Full data with pos=-1                        0.720 0.178\n",
      "Full data with pos=1                         0.720 0.983\n",
      "50/50 data avg of 10 runs with pos_label=-1  0.854 0.389\n",
      "50/50 data avg of 10 runs with pos_label=1   0.854 0.974\n",
      "50/50 dedup avg of 10 runs with pos_label=-1 0.820 0.410\n",
      "50/50 dedup avg of 10 runs with pos_label=1  0.820 0.965\n"
     ]
    }
   ],
   "source": [
    "maxlen = max(len(x[0]) for x in results)\n",
    "print(\"%-*s %5s %5s\" %(maxlen,\"Dataset\", \"AUC\", \"F1\"))\n",
    "for s, auc, f1 in results:\n",
    "    print(\"%-*s %.3f %.3f\" %(maxlen, s, auc, f1))"
   ]
  },
  {
   "cell_type": "code",
   "execution_count": null,
   "metadata": {},
   "outputs": [],
   "source": []
  },
  {
   "cell_type": "code",
   "execution_count": null,
   "metadata": {},
   "outputs": [],
   "source": []
  }
 ],
 "metadata": {
  "interpreter": {
   "hash": "66e8eda34c4a8db5741486fe809d5597dabfdaf16c1628b98299c14a7168cc23"
  },
  "kernelspec": {
   "display_name": "Python 3 (ipykernel)",
   "language": "python",
   "name": "python3"
  },
  "language_info": {
   "codemirror_mode": {
    "name": "ipython",
    "version": 3
   },
   "file_extension": ".py",
   "mimetype": "text/x-python",
   "name": "python",
   "nbconvert_exporter": "python",
   "pygments_lexer": "ipython3",
   "version": "3.9.5"
  }
 },
 "nbformat": 4,
 "nbformat_minor": 2
}
